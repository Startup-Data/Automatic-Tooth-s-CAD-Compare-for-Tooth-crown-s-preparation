{
  "nbformat": 4,
  "nbformat_minor": 0,
  "metadata": {
    "colab": {
      "name": "Demo MeshRCNN.ipynb",
      "provenance": [],
      "collapsed_sections": [],
      "toc_visible": true
    },
    "kernelspec": {
      "name": "python3",
      "display_name": "Python 3"
    },
    "accelerator": "GPU"
  },
  "cells": [
    {
      "cell_type": "markdown",
      "metadata": {
        "id": "fMWt0qkQnSpV"
      },
      "source": [
        "# Trying to use the :\n",
        "https://github.com/akanazawa/hmr\n",
        "\n",
        "Project for 3D CAd generation form the 2D photo:\n",
        "\n",
        "[![enter image description here][1]][1]\n",
        "\n",
        "\n",
        "  [1]: https://i.stack.imgur.com/0cJx6.png\n"
      ]
    },
    {
      "cell_type": "markdown",
      "metadata": {
        "id": "5paMMyPFz-yR"
      },
      "source": [
        "# Requirements and Setup\n",
        "It will take a while to install all the dependencies and expect around 20min to run this demo on this Google Colab"
      ]
    },
    {
      "cell_type": "code",
      "metadata": {
        "id": "8TH4Ws1vihMf"
      },
      "source": [
        "%cd /content\n",
        "!git clone https://github.com/akanazawa/hmr\n",
        "%cd hmr\n"
      ],
      "execution_count": null,
      "outputs": []
    },
    {
      "cell_type": "code",
      "metadata": {
        "id": "N3gsPdufoLqA"
      },
      "source": [
        "# https://github.com/RasaHQ/rasa/issues/3048\n",
        "# !pip2 install https://storage.googleapis.com/tensorflow/mac/cpu/tensorflow-1.12.0-py3-none-any.whl\n",
        "# !pip2 install -U rasa_core"
      ],
      "execution_count": null,
      "outputs": []
    },
    {
      "cell_type": "code",
      "metadata": {
        "id": "HVWO9Ok1mh4m"
      },
      "source": [
        "!pip2 uninstall tensorflow  -y\n",
        "!pip2 install tensorflow==1.13.0rc1 --ignore-installed\n",
        "%tensorflow_version 1.x\n",
        "!pip2 install -r requirements.txt"
      ],
      "execution_count": null,
      "outputs": []
    },
    {
      "cell_type": "code",
      "metadata": {
        "colab": {
          "base_uri": "https://localhost:8080/",
          "height": 1000
        },
        "id": "q94YwDsXo6ys",
        "outputId": "7c023da0-8ecf-4433-93bf-269026f428a7"
      },
      "source": [
        ""
      ],
      "execution_count": 26,
      "outputs": [
        {
          "output_type": "stream",
          "text": [
            "Collecting tensorflow==1.13.0rc1\n",
            "\u001b[?25l  Downloading https://files.pythonhosted.org/packages/be/80/18adfb46ba0a4044e9feaa0897ceae4673ac07d34deeb74490bc0d4e4987/tensorflow-1.13.0rc1-cp37-cp37m-manylinux1_x86_64.whl (92.7MB)\n",
            "\u001b[K     |████████████████████████████████| 92.7MB 115kB/s \n",
            "\u001b[?25hCollecting grpcio>=1.8.6\n",
            "\u001b[?25l  Downloading https://files.pythonhosted.org/packages/31/d8/1bfe90cc49c166dd2ec1be46fa4830c254ce702004a110830c74ec1df0c0/grpcio-1.37.1-cp37-cp37m-manylinux2014_x86_64.whl (4.2MB)\n",
            "\u001b[K     |████████████████████████████████| 4.2MB 46.5MB/s \n",
            "\u001b[?25hCollecting wheel>=0.26\n",
            "  Using cached https://files.pythonhosted.org/packages/65/63/39d04c74222770ed1589c0eaba06c05891801219272420b40311cd60c880/wheel-0.36.2-py2.py3-none-any.whl\n",
            "Collecting numpy>=1.13.3\n",
            "\u001b[?25l  Downloading https://files.pythonhosted.org/packages/73/ef/8967d406f3f85018ceb5efab50431e901683188f1741ceb053efcab26c87/numpy-1.20.2-cp37-cp37m-manylinux2010_x86_64.whl (15.3MB)\n",
            "\u001b[K     |████████████████████████████████| 15.3MB 215kB/s \n",
            "\u001b[?25hCollecting termcolor>=1.1.0\n",
            "  Downloading https://files.pythonhosted.org/packages/8a/48/a76be51647d0eb9f10e2a4511bf3ffb8cc1e6b14e9e4fab46173aa79f981/termcolor-1.1.0.tar.gz\n",
            "Collecting absl-py>=0.1.6\n",
            "\u001b[?25l  Downloading https://files.pythonhosted.org/packages/92/c9/ef0fae29182d7a867d203f0eff8296b60da92098cc41db33a434f4be84bf/absl_py-0.12.0-py3-none-any.whl (129kB)\n",
            "\u001b[K     |████████████████████████████████| 133kB 52.5MB/s \n",
            "\u001b[?25hCollecting astor>=0.6.0\n",
            "  Downloading https://files.pythonhosted.org/packages/c3/88/97eef84f48fa04fbd6750e62dcceafba6c63c81b7ac1420856c8dcc0a3f9/astor-0.8.1-py2.py3-none-any.whl\n",
            "Collecting tensorflow-estimator<1.14.0rc0,>=1.13.0rc0\n",
            "\u001b[?25l  Downloading https://files.pythonhosted.org/packages/bb/48/13f49fc3fa0fdf916aa1419013bb8f2ad09674c275b4046d5ee669a46873/tensorflow_estimator-1.13.0-py2.py3-none-any.whl (367kB)\n",
            "\u001b[K     |████████████████████████████████| 368kB 53.1MB/s \n",
            "\u001b[?25hCollecting gast>=0.2.0\n",
            "  Downloading https://files.pythonhosted.org/packages/b6/48/583c032b79ae5b3daa02225a675aeb673e58d2cb698e78510feceb11958c/gast-0.4.0-py3-none-any.whl\n",
            "Collecting tensorboard<1.13.0,>=1.12.0\n",
            "\u001b[?25l  Downloading https://files.pythonhosted.org/packages/07/53/8d32ce9471c18f8d99028b7cef2e5b39ea8765bd7ef250ca05b490880971/tensorboard-1.12.2-py3-none-any.whl (3.0MB)\n",
            "\u001b[K     |████████████████████████████████| 3.1MB 36.6MB/s \n",
            "\u001b[?25hCollecting keras-applications>=1.0.6\n",
            "\u001b[?25l  Downloading https://files.pythonhosted.org/packages/71/e3/19762fdfc62877ae9102edf6342d71b28fbfd9dea3d2f96a882ce099b03f/Keras_Applications-1.0.8-py3-none-any.whl (50kB)\n",
            "\u001b[K     |████████████████████████████████| 51kB 8.4MB/s \n",
            "\u001b[?25hCollecting six>=1.10.0\n",
            "  Downloading https://files.pythonhosted.org/packages/ee/ff/48bde5c0f013094d729fe4b0316ba2a24774b3ff1c52d924a8a4cb04078a/six-1.15.0-py2.py3-none-any.whl\n",
            "Collecting keras-preprocessing>=1.0.5\n",
            "\u001b[?25l  Downloading https://files.pythonhosted.org/packages/79/4c/7c3275a01e12ef9368a892926ab932b33bb13d55794881e3573482b378a7/Keras_Preprocessing-1.1.2-py2.py3-none-any.whl (42kB)\n",
            "\u001b[K     |████████████████████████████████| 51kB 9.1MB/s \n",
            "\u001b[?25hCollecting protobuf>=3.6.1\n",
            "\u001b[?25l  Downloading https://files.pythonhosted.org/packages/51/4e/de63de3cd9a83d3c1753a4566b11fc9d90b845f2448a132cfd36d3cb3cd1/protobuf-3.15.8-cp37-cp37m-manylinux1_x86_64.whl (1.0MB)\n",
            "\u001b[K     |████████████████████████████████| 1.0MB 47.1MB/s \n",
            "\u001b[?25hCollecting mock>=2.0.0\n",
            "  Downloading https://files.pythonhosted.org/packages/5c/03/b7e605db4a57c0f6fba744b11ef3ddf4ddebcada35022927a2b5fc623fdf/mock-4.0.3-py3-none-any.whl\n",
            "Collecting markdown>=2.6.8\n",
            "\u001b[?25l  Downloading https://files.pythonhosted.org/packages/6e/33/1ae0f71395e618d6140fbbc9587cc3156591f748226075e0f7d6f9176522/Markdown-3.3.4-py3-none-any.whl (97kB)\n",
            "\u001b[K     |████████████████████████████████| 102kB 14.7MB/s \n",
            "\u001b[?25hCollecting werkzeug>=0.11.10\n",
            "\u001b[?25l  Downloading https://files.pythonhosted.org/packages/cc/94/5f7079a0e00bd6863ef8f1da638721e9da21e5bacee597595b318f71d62e/Werkzeug-1.0.1-py2.py3-none-any.whl (298kB)\n",
            "\u001b[K     |████████████████████████████████| 307kB 60.1MB/s \n",
            "\u001b[?25hCollecting h5py\n",
            "\u001b[?25l  Downloading https://files.pythonhosted.org/packages/b3/c5/94e2444eb691f658fb8e3cf6cde3ae29540cf6d9ce76f0561afcdbb89136/h5py-3.2.1-cp37-cp37m-manylinux1_x86_64.whl (4.1MB)\n",
            "\u001b[K     |████████████████████████████████| 4.1MB 49.5MB/s \n",
            "\u001b[?25hCollecting importlib-metadata; python_version < \"3.8\"\n",
            "  Downloading https://files.pythonhosted.org/packages/8e/e2/49966924c93909d47612bb47d911448140a2f6c1390aec2f4c1afbe3748f/importlib_metadata-4.0.1-py3-none-any.whl\n",
            "Collecting cached-property; python_version < \"3.8\"\n",
            "  Downloading https://files.pythonhosted.org/packages/48/19/f2090f7dad41e225c7f2326e4cfe6fff49e57dedb5b53636c9551f86b069/cached_property-1.5.2-py2.py3-none-any.whl\n",
            "Collecting zipp>=0.5\n",
            "  Downloading https://files.pythonhosted.org/packages/0f/8c/715c54e9e34c0c4820f616a913a7de3337d0cd79074dd1bed4dd840f16ae/zipp-3.4.1-py3-none-any.whl\n",
            "Collecting typing-extensions>=3.6.4; python_version < \"3.8\"\n",
            "  Downloading https://files.pythonhosted.org/packages/60/7a/e881b5abb54db0e6e671ab088d079c57ce54e8a01a3ca443f561ccadb37e/typing_extensions-3.7.4.3-py3-none-any.whl\n",
            "Building wheels for collected packages: termcolor\n",
            "  Building wheel for termcolor (setup.py) ... \u001b[?25l\u001b[?25hdone\n",
            "  Created wheel for termcolor: filename=termcolor-1.1.0-cp37-none-any.whl size=4832 sha256=e501de3dd294b15bdb0887fd723b1f4f669a443ba6e2a03e4f49f17feef94e06\n",
            "  Stored in directory: /root/.cache/pip/wheels/7c/06/54/bc84598ba1daf8f970247f550b175aaaee85f68b4b0c5ab2c6\n",
            "Successfully built termcolor\n",
            "\u001b[31mERROR: lucid 0.3.10 requires umap-learn, which is not installed.\u001b[0m\n",
            "\u001b[31mERROR: lucid 0.3.10 has requirement numpy<=1.19, but you'll have numpy 1.20.2 which is incompatible.\u001b[0m\n",
            "\u001b[31mERROR: datascience 0.10.6 has requirement folium==0.2.1, but you'll have folium 0.8.3 which is incompatible.\u001b[0m\n",
            "\u001b[31mERROR: albumentations 0.1.12 has requirement imgaug<0.2.7,>=0.2.5, but you'll have imgaug 0.2.9 which is incompatible.\u001b[0m\n",
            "Installing collected packages: six, grpcio, wheel, numpy, termcolor, absl-py, astor, mock, tensorflow-estimator, gast, zipp, typing-extensions, importlib-metadata, markdown, protobuf, werkzeug, tensorboard, cached-property, h5py, keras-applications, keras-preprocessing, tensorflow\n",
            "Successfully installed absl-py-0.12.0 astor-0.8.1 cached-property-1.5.2 gast-0.4.0 grpcio-1.37.1 h5py-3.2.1 importlib-metadata-4.0.1 keras-applications-1.0.8 keras-preprocessing-1.1.2 markdown-3.3.4 mock-4.0.3 numpy-1.20.2 protobuf-3.15.8 six-1.15.0 tensorboard-2.4.1 tensorflow-1.13.0rc1 tensorflow-estimator-2.4.0 termcolor-1.1.0 typing-extensions-3.7.4.3 werkzeug-1.0.1 wheel-0.36.2 zipp-3.4.1\n"
          ],
          "name": "stdout"
        },
        {
          "output_type": "display_data",
          "data": {
            "application/vnd.colab-display-data+json": {
              "pip_warning": {
                "packages": [
                  "astor",
                  "google",
                  "grpc",
                  "numpy",
                  "six"
                ]
              }
            }
          },
          "metadata": {
            "tags": []
          }
        }
      ]
    },
    {
      "cell_type": "code",
      "metadata": {
        "colab": {
          "base_uri": "https://localhost:8080/",
          "height": 345
        },
        "id": "UtozJ2swov6r",
        "outputId": "41e917f6-093c-4b78-bfba-bca65cb609a4"
      },
      "source": [
        "%tensorflow_version 1.x\n",
        "import tensorflow\n",
        "print(tensorflow.__version__)"
      ],
      "execution_count": 22,
      "outputs": [
        {
          "output_type": "error",
          "ename": "ModuleNotFoundError",
          "evalue": "ignored",
          "traceback": [
            "\u001b[0;31m---------------------------------------------------------------------------\u001b[0m",
            "\u001b[0;31mModuleNotFoundError\u001b[0m                       Traceback (most recent call last)",
            "\u001b[0;32m<ipython-input-22-c0d1564572ec>\u001b[0m in \u001b[0;36m<module>\u001b[0;34m()\u001b[0m\n\u001b[1;32m      1\u001b[0m \u001b[0mget_ipython\u001b[0m\u001b[0;34m(\u001b[0m\u001b[0;34m)\u001b[0m\u001b[0;34m.\u001b[0m\u001b[0mmagic\u001b[0m\u001b[0;34m(\u001b[0m\u001b[0;34m'tensorflow_version 1.x'\u001b[0m\u001b[0;34m)\u001b[0m\u001b[0;34m\u001b[0m\u001b[0;34m\u001b[0m\u001b[0m\n\u001b[0;32m----> 2\u001b[0;31m \u001b[0;32mimport\u001b[0m \u001b[0mtensorflow\u001b[0m\u001b[0;34m\u001b[0m\u001b[0;34m\u001b[0m\u001b[0m\n\u001b[0m\u001b[1;32m      3\u001b[0m \u001b[0mprint\u001b[0m\u001b[0;34m(\u001b[0m\u001b[0mtensorflow\u001b[0m\u001b[0;34m.\u001b[0m\u001b[0m__version__\u001b[0m\u001b[0;34m)\u001b[0m\u001b[0;34m\u001b[0m\u001b[0;34m\u001b[0m\u001b[0m\n",
            "\u001b[0;31mModuleNotFoundError\u001b[0m: No module named 'tensorflow'",
            "",
            "\u001b[0;31m---------------------------------------------------------------------------\u001b[0;32m\nNOTE: If your import is failing due to a missing package, you can\nmanually install dependencies using either !pip or !apt.\n\nTo view examples of installing some common dependencies, click the\n\"Open Examples\" button below.\n\u001b[0;31m---------------------------------------------------------------------------\u001b[0m\n"
          ]
        }
      ]
    },
    {
      "cell_type": "code",
      "metadata": {
        "id": "ghcTMIn_jkWy"
      },
      "source": [
        "# !pip install opendr\n",
        "# !pip2 install opendr==0.77 --no-cache-dir"
      ],
      "execution_count": null,
      "outputs": []
    },
    {
      "cell_type": "markdown",
      "metadata": {
        "id": "wLiG5IXz0Itk"
      },
      "source": [
        "## Imports and checking installation parameters ( Rune Demo)"
      ]
    },
    {
      "cell_type": "code",
      "metadata": {
        "id": "ANyUB4bAicCY"
      },
      "source": [
        "\n",
        "!wget https://people.eecs.berkeley.edu/~kanazawa/cachedir/hmr/models.tar.gz && tar -xf models.tar.gz"
      ],
      "execution_count": null,
      "outputs": []
    },
    {
      "cell_type": "code",
      "metadata": {
        "colab": {
          "base_uri": "https://localhost:8080/"
        },
        "id": "YfzNDuFLk6yE",
        "outputId": "8326baed-9435-4d97-c149-0781b6be21da"
      },
      "source": [
        "!python2 -m demo --img_path /content/hmr/data/coco1.png\n",
        "!python2 -m demo --img_path /content/hmr/data/im1954.jpg"
      ],
      "execution_count": 16,
      "outputs": [
        {
          "output_type": "stream",
          "text": [
            "Traceback (most recent call last):\n",
            "  File \"/usr/lib/python2.7/runpy.py\", line 174, in _run_module_as_main\n",
            "    \"__main__\", fname, loader, pkg_name)\n",
            "  File \"/usr/lib/python2.7/runpy.py\", line 72, in _run_code\n",
            "    exec code in run_globals\n",
            "  File \"/content/hmr/demo.py\", line 27, in <module>\n",
            "    import tensorflow as tf\n",
            "  File \"/tensorflow-1.15.2/python3.7/tensorflow/__init__.py\", line 99, in <module>\n",
            "    from tensorflow_core import *\n",
            "  File \"/tensorflow-1.15.2/python3.7/tensorflow_core/__init__.py\", line 28, in <module>\n",
            "    from tensorflow.python import pywrap_tensorflow  # pylint: disable=unused-import\n",
            "  File \"/tensorflow-1.15.2/python3.7/tensorflow/__init__.py\", line 50, in __getattr__\n",
            "    module = self._load()\n",
            "  File \"/tensorflow-1.15.2/python3.7/tensorflow/__init__.py\", line 44, in _load\n",
            "    module = _importlib.import_module(self.__name__)\n",
            "  File \"/usr/lib/python2.7/importlib/__init__.py\", line 37, in import_module\n",
            "    __import__(name)\n",
            "  File \"/tensorflow-1.15.2/python3.7/tensorflow_core/python/__init__.py\", line 49, in <module>\n",
            "    from tensorflow.python import pywrap_tensorflow\n",
            "  File \"/tensorflow-1.15.2/python3.7/tensorflow_core/python/pywrap_tensorflow.py\", line 74, in <module>\n",
            "    raise ImportError(msg)\n",
            "ImportError: Traceback (most recent call last):\n",
            "  File \"/tensorflow-1.15.2/python3.7/tensorflow_core/python/pywrap_tensorflow.py\", line 58, in <module>\n",
            "    from tensorflow.python.pywrap_tensorflow_internal import *\n",
            "  File \"/tensorflow-1.15.2/python3.7/tensorflow_core/python/pywrap_tensorflow_internal.py\", line 28, in <module>\n",
            "    _pywrap_tensorflow_internal = swig_import_helper()\n",
            "  File \"/tensorflow-1.15.2/python3.7/tensorflow_core/python/pywrap_tensorflow_internal.py\", line 24, in swig_import_helper\n",
            "    _mod = imp.load_module('_pywrap_tensorflow_internal', fp, pathname, description)\n",
            "ImportError: dynamic module does not define init function (init_pywrap_tensorflow_internal)\n",
            "\n",
            "\n",
            "Failed to load the native TensorFlow runtime.\n",
            "\n",
            "See https://www.tensorflow.org/install/errors\n",
            "\n",
            "for some common reasons and solutions.  Include the entire stack trace\n",
            "above this error message when asking for help.\n",
            "Traceback (most recent call last):\n",
            "  File \"/usr/lib/python2.7/runpy.py\", line 174, in _run_module_as_main\n",
            "    \"__main__\", fname, loader, pkg_name)\n",
            "  File \"/usr/lib/python2.7/runpy.py\", line 72, in _run_code\n",
            "    exec code in run_globals\n",
            "  File \"/content/hmr/demo.py\", line 27, in <module>\n",
            "    import tensorflow as tf\n",
            "  File \"/tensorflow-1.15.2/python3.7/tensorflow/__init__.py\", line 99, in <module>\n",
            "    from tensorflow_core import *\n",
            "  File \"/tensorflow-1.15.2/python3.7/tensorflow_core/__init__.py\", line 28, in <module>\n",
            "    from tensorflow.python import pywrap_tensorflow  # pylint: disable=unused-import\n",
            "  File \"/tensorflow-1.15.2/python3.7/tensorflow/__init__.py\", line 50, in __getattr__\n",
            "    module = self._load()\n",
            "  File \"/tensorflow-1.15.2/python3.7/tensorflow/__init__.py\", line 44, in _load\n",
            "    module = _importlib.import_module(self.__name__)\n",
            "  File \"/usr/lib/python2.7/importlib/__init__.py\", line 37, in import_module\n",
            "    __import__(name)\n",
            "  File \"/tensorflow-1.15.2/python3.7/tensorflow_core/python/__init__.py\", line 49, in <module>\n",
            "    from tensorflow.python import pywrap_tensorflow\n",
            "  File \"/tensorflow-1.15.2/python3.7/tensorflow_core/python/pywrap_tensorflow.py\", line 74, in <module>\n",
            "    raise ImportError(msg)\n",
            "ImportError: Traceback (most recent call last):\n",
            "  File \"/tensorflow-1.15.2/python3.7/tensorflow_core/python/pywrap_tensorflow.py\", line 58, in <module>\n",
            "    from tensorflow.python.pywrap_tensorflow_internal import *\n",
            "  File \"/tensorflow-1.15.2/python3.7/tensorflow_core/python/pywrap_tensorflow_internal.py\", line 28, in <module>\n",
            "    _pywrap_tensorflow_internal = swig_import_helper()\n",
            "  File \"/tensorflow-1.15.2/python3.7/tensorflow_core/python/pywrap_tensorflow_internal.py\", line 24, in swig_import_helper\n",
            "    _mod = imp.load_module('_pywrap_tensorflow_internal', fp, pathname, description)\n",
            "ImportError: dynamic module does not define init function (init_pywrap_tensorflow_internal)\n",
            "\n",
            "\n",
            "Failed to load the native TensorFlow runtime.\n",
            "\n",
            "See https://www.tensorflow.org/install/errors\n",
            "\n",
            "for some common reasons and solutions.  Include the entire stack trace\n",
            "above this error message when asking for help.\n"
          ],
          "name": "stdout"
        }
      ]
    },
    {
      "cell_type": "markdown",
      "metadata": {
        "id": "CM8jzLOu6x-7"
      },
      "source": [
        "# Download the .obj file"
      ]
    },
    {
      "cell_type": "code",
      "metadata": {
        "id": "p7MGB2Hk954d"
      },
      "source": [
        "name = 'sofa' # change file name accordingly"
      ],
      "execution_count": null,
      "outputs": []
    },
    {
      "cell_type": "code",
      "metadata": {
        "id": "1YIkQ9sZ6wRX"
      },
      "source": [
        "from google.colab import files\n",
        "files.download('/content/output_demo/test/0_mesh_'+ name + '_1.000.obj')"
      ],
      "execution_count": null,
      "outputs": []
    }
  ]
}